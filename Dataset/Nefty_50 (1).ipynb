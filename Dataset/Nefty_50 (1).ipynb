{
 "cells": [
  {
   "cell_type": "code",
   "execution_count": 10,
   "id": "154d6bd5",
   "metadata": {},
   "outputs": [],
   "source": [
    "import pandas as pd\n",
    "import numpy as np\n",
    "import seaborn as sns\n",
    "import matplotlib.pyplot as plt\n",
    "%matplotlib inline\n",
    "import warnings\n",
    "warnings.filterwarnings('ignore')"
   ]
  },
  {
   "cell_type": "code",
   "execution_count": 2,
   "id": "caf94c83",
   "metadata": {},
   "outputs": [],
   "source": [
    "data=pd.read_csv('nefty_50.csv')"
   ]
  },
  {
   "cell_type": "code",
   "execution_count": 3,
   "id": "44161bd6",
   "metadata": {},
   "outputs": [
    {
     "data": {
      "text/html": [
       "<div>\n",
       "<style scoped>\n",
       "    .dataframe tbody tr th:only-of-type {\n",
       "        vertical-align: middle;\n",
       "    }\n",
       "\n",
       "    .dataframe tbody tr th {\n",
       "        vertical-align: top;\n",
       "    }\n",
       "\n",
       "    .dataframe thead th {\n",
       "        text-align: right;\n",
       "    }\n",
       "</style>\n",
       "<table border=\"1\" class=\"dataframe\">\n",
       "  <thead>\n",
       "    <tr style=\"text-align: right;\">\n",
       "      <th></th>\n",
       "      <th>Date</th>\n",
       "      <th>Open</th>\n",
       "      <th>High</th>\n",
       "      <th>Low</th>\n",
       "      <th>Close</th>\n",
       "      <th>Adj Close</th>\n",
       "      <th>Volume</th>\n",
       "    </tr>\n",
       "  </thead>\n",
       "  <tbody>\n",
       "    <tr>\n",
       "      <th>0</th>\n",
       "      <td>2022-11-17</td>\n",
       "      <td>18358.699219</td>\n",
       "      <td>18417.599609</td>\n",
       "      <td>18312.949219</td>\n",
       "      <td>18343.900391</td>\n",
       "      <td>18343.900391</td>\n",
       "      <td>200500</td>\n",
       "    </tr>\n",
       "    <tr>\n",
       "      <th>1</th>\n",
       "      <td>2022-11-18</td>\n",
       "      <td>18382.949219</td>\n",
       "      <td>18394.599609</td>\n",
       "      <td>18209.800781</td>\n",
       "      <td>18307.650391</td>\n",
       "      <td>18307.650391</td>\n",
       "      <td>198800</td>\n",
       "    </tr>\n",
       "    <tr>\n",
       "      <th>2</th>\n",
       "      <td>2022-11-21</td>\n",
       "      <td>18246.400391</td>\n",
       "      <td>18262.300781</td>\n",
       "      <td>18133.349609</td>\n",
       "      <td>18159.949219</td>\n",
       "      <td>18159.949219</td>\n",
       "      <td>213800</td>\n",
       "    </tr>\n",
       "    <tr>\n",
       "      <th>3</th>\n",
       "      <td>2022-11-22</td>\n",
       "      <td>18179.150391</td>\n",
       "      <td>18261.849609</td>\n",
       "      <td>18137.699219</td>\n",
       "      <td>18244.199219</td>\n",
       "      <td>18244.199219</td>\n",
       "      <td>177700</td>\n",
       "    </tr>\n",
       "    <tr>\n",
       "      <th>4</th>\n",
       "      <td>2022-11-23</td>\n",
       "      <td>18325.199219</td>\n",
       "      <td>18325.400391</td>\n",
       "      <td>18246.000000</td>\n",
       "      <td>18267.250000</td>\n",
       "      <td>18267.250000</td>\n",
       "      <td>178800</td>\n",
       "    </tr>\n",
       "  </tbody>\n",
       "</table>\n",
       "</div>"
      ],
      "text/plain": [
       "         Date          Open          High           Low         Close  \\\n",
       "0  2022-11-17  18358.699219  18417.599609  18312.949219  18343.900391   \n",
       "1  2022-11-18  18382.949219  18394.599609  18209.800781  18307.650391   \n",
       "2  2022-11-21  18246.400391  18262.300781  18133.349609  18159.949219   \n",
       "3  2022-11-22  18179.150391  18261.849609  18137.699219  18244.199219   \n",
       "4  2022-11-23  18325.199219  18325.400391  18246.000000  18267.250000   \n",
       "\n",
       "      Adj Close  Volume  \n",
       "0  18343.900391  200500  \n",
       "1  18307.650391  198800  \n",
       "2  18159.949219  213800  \n",
       "3  18244.199219  177700  \n",
       "4  18267.250000  178800  "
      ]
     },
     "execution_count": 3,
     "metadata": {},
     "output_type": "execute_result"
    }
   ],
   "source": [
    "data.head()"
   ]
  },
  {
   "cell_type": "code",
   "execution_count": 4,
   "id": "18d98175",
   "metadata": {},
   "outputs": [
    {
     "data": {
      "text/plain": [
       "Date         0\n",
       "Open         0\n",
       "High         0\n",
       "Low          0\n",
       "Close        0\n",
       "Adj Close    0\n",
       "Volume       0\n",
       "dtype: int64"
      ]
     },
     "execution_count": 4,
     "metadata": {},
     "output_type": "execute_result"
    }
   ],
   "source": [
    "data.isnull().sum()"
   ]
  },
  {
   "cell_type": "code",
   "execution_count": 5,
   "id": "08d56182",
   "metadata": {},
   "outputs": [
    {
     "name": "stdout",
     "output_type": "stream",
     "text": [
      "<class 'pandas.core.frame.DataFrame'>\n",
      "RangeIndex: 249 entries, 0 to 248\n",
      "Data columns (total 7 columns):\n",
      " #   Column     Non-Null Count  Dtype  \n",
      "---  ------     --------------  -----  \n",
      " 0   Date       249 non-null    object \n",
      " 1   Open       249 non-null    float64\n",
      " 2   High       249 non-null    float64\n",
      " 3   Low        249 non-null    float64\n",
      " 4   Close      249 non-null    float64\n",
      " 5   Adj Close  249 non-null    float64\n",
      " 6   Volume     249 non-null    int64  \n",
      "dtypes: float64(5), int64(1), object(1)\n",
      "memory usage: 13.7+ KB\n"
     ]
    }
   ],
   "source": [
    "data.info()"
   ]
  },
  {
   "cell_type": "code",
   "execution_count": 6,
   "id": "bfd661a2",
   "metadata": {},
   "outputs": [
    {
     "data": {
      "text/plain": [
       "(249, 7)"
      ]
     },
     "execution_count": 6,
     "metadata": {},
     "output_type": "execute_result"
    }
   ],
   "source": [
    "data.shape"
   ]
  },
  {
   "cell_type": "code",
   "execution_count": 7,
   "id": "0069f96b",
   "metadata": {},
   "outputs": [
    {
     "data": {
      "text/html": [
       "<div>\n",
       "<style scoped>\n",
       "    .dataframe tbody tr th:only-of-type {\n",
       "        vertical-align: middle;\n",
       "    }\n",
       "\n",
       "    .dataframe tbody tr th {\n",
       "        vertical-align: top;\n",
       "    }\n",
       "\n",
       "    .dataframe thead th {\n",
       "        text-align: right;\n",
       "    }\n",
       "</style>\n",
       "<table border=\"1\" class=\"dataframe\">\n",
       "  <thead>\n",
       "    <tr style=\"text-align: right;\">\n",
       "      <th></th>\n",
       "      <th>Open</th>\n",
       "      <th>High</th>\n",
       "      <th>Low</th>\n",
       "      <th>Close</th>\n",
       "      <th>Adj Close</th>\n",
       "      <th>Volume</th>\n",
       "    </tr>\n",
       "  </thead>\n",
       "  <tbody>\n",
       "    <tr>\n",
       "      <th>count</th>\n",
       "      <td>249.000000</td>\n",
       "      <td>249.000000</td>\n",
       "      <td>249.000000</td>\n",
       "      <td>249.000000</td>\n",
       "      <td>249.000000</td>\n",
       "      <td>249.000000</td>\n",
       "    </tr>\n",
       "    <tr>\n",
       "      <th>mean</th>\n",
       "      <td>18635.170479</td>\n",
       "      <td>18697.575223</td>\n",
       "      <td>18543.069410</td>\n",
       "      <td>18622.696842</td>\n",
       "      <td>18622.696842</td>\n",
       "      <td>253908.835341</td>\n",
       "    </tr>\n",
       "    <tr>\n",
       "      <th>std</th>\n",
       "      <td>840.010496</td>\n",
       "      <td>836.568594</td>\n",
       "      <td>853.600034</td>\n",
       "      <td>846.415078</td>\n",
       "      <td>846.415078</td>\n",
       "      <td>74122.456997</td>\n",
       "    </tr>\n",
       "    <tr>\n",
       "      <th>min</th>\n",
       "      <td>16977.300781</td>\n",
       "      <td>17061.750000</td>\n",
       "      <td>16828.349609</td>\n",
       "      <td>16945.050781</td>\n",
       "      <td>16945.050781</td>\n",
       "      <td>0.000000</td>\n",
       "    </tr>\n",
       "    <tr>\n",
       "      <th>25%</th>\n",
       "      <td>17950.400391</td>\n",
       "      <td>18047.400391</td>\n",
       "      <td>17824.349609</td>\n",
       "      <td>17915.050781</td>\n",
       "      <td>17915.050781</td>\n",
       "      <td>215100.000000</td>\n",
       "    </tr>\n",
       "    <tr>\n",
       "      <th>50%</th>\n",
       "      <td>18595.050781</td>\n",
       "      <td>18633.599609</td>\n",
       "      <td>18528.400391</td>\n",
       "      <td>18563.400391</td>\n",
       "      <td>18563.400391</td>\n",
       "      <td>244500.000000</td>\n",
       "    </tr>\n",
       "    <tr>\n",
       "      <th>75%</th>\n",
       "      <td>19450.550781</td>\n",
       "      <td>19507.699219</td>\n",
       "      <td>19369.000000</td>\n",
       "      <td>19434.550781</td>\n",
       "      <td>19434.550781</td>\n",
       "      <td>275100.000000</td>\n",
       "    </tr>\n",
       "    <tr>\n",
       "      <th>max</th>\n",
       "      <td>20156.449219</td>\n",
       "      <td>20222.449219</td>\n",
       "      <td>20129.699219</td>\n",
       "      <td>20192.349609</td>\n",
       "      <td>20192.349609</td>\n",
       "      <td>696500.000000</td>\n",
       "    </tr>\n",
       "  </tbody>\n",
       "</table>\n",
       "</div>"
      ],
      "text/plain": [
       "               Open          High           Low         Close     Adj Close  \\\n",
       "count    249.000000    249.000000    249.000000    249.000000    249.000000   \n",
       "mean   18635.170479  18697.575223  18543.069410  18622.696842  18622.696842   \n",
       "std      840.010496    836.568594    853.600034    846.415078    846.415078   \n",
       "min    16977.300781  17061.750000  16828.349609  16945.050781  16945.050781   \n",
       "25%    17950.400391  18047.400391  17824.349609  17915.050781  17915.050781   \n",
       "50%    18595.050781  18633.599609  18528.400391  18563.400391  18563.400391   \n",
       "75%    19450.550781  19507.699219  19369.000000  19434.550781  19434.550781   \n",
       "max    20156.449219  20222.449219  20129.699219  20192.349609  20192.349609   \n",
       "\n",
       "              Volume  \n",
       "count     249.000000  \n",
       "mean   253908.835341  \n",
       "std     74122.456997  \n",
       "min         0.000000  \n",
       "25%    215100.000000  \n",
       "50%    244500.000000  \n",
       "75%    275100.000000  \n",
       "max    696500.000000  "
      ]
     },
     "execution_count": 7,
     "metadata": {},
     "output_type": "execute_result"
    }
   ],
   "source": [
    "data.describe()"
   ]
  },
  {
   "cell_type": "code",
   "execution_count": 8,
   "id": "42b3ca0b",
   "metadata": {},
   "outputs": [
    {
     "data": {
      "text/plain": [
       "Index(['Date', 'Open', 'High', 'Low', 'Close', 'Adj Close', 'Volume'], dtype='object')"
      ]
     },
     "execution_count": 8,
     "metadata": {},
     "output_type": "execute_result"
    }
   ],
   "source": [
    "data.columns"
   ]
  },
  {
   "cell_type": "code",
   "execution_count": 12,
   "id": "46f7cc7f",
   "metadata": {},
   "outputs": [],
   "source": [
    "data.drop('High',axis=1,inplace=True)\n",
    "data.drop('Low',axis=1,inplace=True)\n",
    "data.drop('Adj Close',axis=1,inplace=True)\n",
    "data.drop('Volume',axis=1,inplace=True)"
   ]
  },
  {
   "cell_type": "code",
   "execution_count": 13,
   "id": "d9af41c7",
   "metadata": {},
   "outputs": [
    {
     "data": {
      "text/html": [
       "<div>\n",
       "<style scoped>\n",
       "    .dataframe tbody tr th:only-of-type {\n",
       "        vertical-align: middle;\n",
       "    }\n",
       "\n",
       "    .dataframe tbody tr th {\n",
       "        vertical-align: top;\n",
       "    }\n",
       "\n",
       "    .dataframe thead th {\n",
       "        text-align: right;\n",
       "    }\n",
       "</style>\n",
       "<table border=\"1\" class=\"dataframe\">\n",
       "  <thead>\n",
       "    <tr style=\"text-align: right;\">\n",
       "      <th></th>\n",
       "      <th>Date</th>\n",
       "      <th>Open</th>\n",
       "      <th>Close</th>\n",
       "    </tr>\n",
       "  </thead>\n",
       "  <tbody>\n",
       "    <tr>\n",
       "      <th>0</th>\n",
       "      <td>2022-11-17</td>\n",
       "      <td>18358.699219</td>\n",
       "      <td>18343.900391</td>\n",
       "    </tr>\n",
       "    <tr>\n",
       "      <th>1</th>\n",
       "      <td>2022-11-18</td>\n",
       "      <td>18382.949219</td>\n",
       "      <td>18307.650391</td>\n",
       "    </tr>\n",
       "    <tr>\n",
       "      <th>2</th>\n",
       "      <td>2022-11-21</td>\n",
       "      <td>18246.400391</td>\n",
       "      <td>18159.949219</td>\n",
       "    </tr>\n",
       "    <tr>\n",
       "      <th>3</th>\n",
       "      <td>2022-11-22</td>\n",
       "      <td>18179.150391</td>\n",
       "      <td>18244.199219</td>\n",
       "    </tr>\n",
       "    <tr>\n",
       "      <th>4</th>\n",
       "      <td>2022-11-23</td>\n",
       "      <td>18325.199219</td>\n",
       "      <td>18267.250000</td>\n",
       "    </tr>\n",
       "  </tbody>\n",
       "</table>\n",
       "</div>"
      ],
      "text/plain": [
       "         Date          Open         Close\n",
       "0  2022-11-17  18358.699219  18343.900391\n",
       "1  2022-11-18  18382.949219  18307.650391\n",
       "2  2022-11-21  18246.400391  18159.949219\n",
       "3  2022-11-22  18179.150391  18244.199219\n",
       "4  2022-11-23  18325.199219  18267.250000"
      ]
     },
     "execution_count": 13,
     "metadata": {},
     "output_type": "execute_result"
    }
   ],
   "source": [
    "data.head()"
   ]
  },
  {
   "cell_type": "code",
   "execution_count": 19,
   "id": "616ffb57",
   "metadata": {},
   "outputs": [],
   "source": [
    "data['Year']=data['Date'].str.split('-').str[0]\n",
    "data['Month']=data['Date'].str.split('-').str[1]\n",
    "data['Day']=data['Date'].str.split('-').str[2]\n",
    "data.drop('Date',axis=1,inplace=True)"
   ]
  },
  {
   "cell_type": "code",
   "execution_count": 20,
   "id": "cfa774f7",
   "metadata": {},
   "outputs": [
    {
     "data": {
      "text/html": [
       "<div>\n",
       "<style scoped>\n",
       "    .dataframe tbody tr th:only-of-type {\n",
       "        vertical-align: middle;\n",
       "    }\n",
       "\n",
       "    .dataframe tbody tr th {\n",
       "        vertical-align: top;\n",
       "    }\n",
       "\n",
       "    .dataframe thead th {\n",
       "        text-align: right;\n",
       "    }\n",
       "</style>\n",
       "<table border=\"1\" class=\"dataframe\">\n",
       "  <thead>\n",
       "    <tr style=\"text-align: right;\">\n",
       "      <th></th>\n",
       "      <th>Open</th>\n",
       "      <th>Close</th>\n",
       "      <th>Year</th>\n",
       "      <th>Month</th>\n",
       "      <th>Day</th>\n",
       "    </tr>\n",
       "  </thead>\n",
       "  <tbody>\n",
       "    <tr>\n",
       "      <th>0</th>\n",
       "      <td>18358.699219</td>\n",
       "      <td>18343.900391</td>\n",
       "      <td>2022</td>\n",
       "      <td>11</td>\n",
       "      <td>17</td>\n",
       "    </tr>\n",
       "    <tr>\n",
       "      <th>1</th>\n",
       "      <td>18382.949219</td>\n",
       "      <td>18307.650391</td>\n",
       "      <td>2022</td>\n",
       "      <td>11</td>\n",
       "      <td>18</td>\n",
       "    </tr>\n",
       "    <tr>\n",
       "      <th>2</th>\n",
       "      <td>18246.400391</td>\n",
       "      <td>18159.949219</td>\n",
       "      <td>2022</td>\n",
       "      <td>11</td>\n",
       "      <td>21</td>\n",
       "    </tr>\n",
       "    <tr>\n",
       "      <th>3</th>\n",
       "      <td>18179.150391</td>\n",
       "      <td>18244.199219</td>\n",
       "      <td>2022</td>\n",
       "      <td>11</td>\n",
       "      <td>22</td>\n",
       "    </tr>\n",
       "    <tr>\n",
       "      <th>4</th>\n",
       "      <td>18325.199219</td>\n",
       "      <td>18267.250000</td>\n",
       "      <td>2022</td>\n",
       "      <td>11</td>\n",
       "      <td>23</td>\n",
       "    </tr>\n",
       "  </tbody>\n",
       "</table>\n",
       "</div>"
      ],
      "text/plain": [
       "           Open         Close  Year Month Day\n",
       "0  18358.699219  18343.900391  2022    11  17\n",
       "1  18382.949219  18307.650391  2022    11  18\n",
       "2  18246.400391  18159.949219  2022    11  21\n",
       "3  18179.150391  18244.199219  2022    11  22\n",
       "4  18325.199219  18267.250000  2022    11  23"
      ]
     },
     "execution_count": 20,
     "metadata": {},
     "output_type": "execute_result"
    }
   ],
   "source": [
    "data.head()"
   ]
  },
  {
   "cell_type": "code",
   "execution_count": 21,
   "id": "c84c5f2f",
   "metadata": {},
   "outputs": [],
   "source": [
    "data.to_csv('nefty_50_cleaned_1.csv',index=False)"
   ]
  },
  {
   "cell_type": "code",
   "execution_count": null,
   "id": "83e02445",
   "metadata": {},
   "outputs": [],
   "source": []
  }
 ],
 "metadata": {
  "kernelspec": {
   "display_name": "Python 3.8.10 64-bit",
   "language": "python",
   "name": "python3"
  },
  "language_info": {
   "codemirror_mode": {
    "name": "ipython",
    "version": 3
   },
   "file_extension": ".py",
   "mimetype": "text/x-python",
   "name": "python",
   "nbconvert_exporter": "python",
   "pygments_lexer": "ipython3",
   "version": "3.8.10"
  },
  "vscode": {
   "interpreter": {
    "hash": "e7370f93d1d0cde622a1f8e1c04877d8463912d04d973331ad4851f04de6915a"
   }
  }
 },
 "nbformat": 4,
 "nbformat_minor": 5
}
